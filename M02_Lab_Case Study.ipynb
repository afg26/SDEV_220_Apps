{
 "cells": [
  {
   "cell_type": "code",
   "execution_count": null,
   "id": "32ca881d",
   "metadata": {},
   "outputs": [],
   "source": [
    "\"\"\"\n",
    "Ahmad Ghaznawi\n",
    "The app asks for a last name and if it is not equal to 'zzz'\n",
    "then asks you to enter your name and your GPA\n",
    "then according to your GPA prints out the conditions.\n",
    "\n",
    "\"\"\"\n",
    "\n",
    "\n",
    "while True :\n",
    "    last_name = input(\"Please Enter Your Lastname  : \")\n",
    "    if last_name != 'zzz':\n",
    "        name = input(\"Please Enter Your Name  : \")\n",
    "        gpa = float(input(\"Please Enter Your GPA  : \"))\n",
    "\n",
    "        if gpa >= 3.5  :\n",
    "            print(name, \" \", last_name, \" Has made it to dean's list\")\n",
    "\n",
    "        elif gpa <= 3.25 :\n",
    "            print(name, \" \", last_name, \" Has made it to honor's list\")\n",
    "    else:\n",
    "        print(\"We are done\")\n",
    "        break\n"
   ]
  },
  {
   "cell_type": "code",
   "execution_count": null,
   "id": "02e37aab",
   "metadata": {},
   "outputs": [],
   "source": [
    "\"\"\"\n",
    "I have also made in a for loop, which is a little more modified and can ask you for\n",
    "5 entries and prints you the result.\n",
    "you can break the app while you are in for loop or while loop by pressing Ctrl+F2\n",
    "\"\"\"\n",
    "\n",
    "\n",
    "for i in range (5):\n",
    "    last_name = input(\"Please Enter Your Lastname  : \")\n",
    "    if last_name != 'zzz':\n",
    "        name = input(\"Please Enter Your Name  : \")\n",
    "        gpa = float(input(\"Please Enter Your GPA  : \"))\n",
    "\n",
    "        if gpa >= 3.5  :\n",
    "            print(name,\" \"  ,last_name,  \" Has made it to Dean's List\")\n",
    "\n",
    "        elif gpa <= 3.25 :\n",
    "            print(name, \" \"  ,last_name, \" Has made it to Honor Roll\")\n",
    "    else:\n",
    "        print(\"We are done\")\n",
    "        break\n"
   ]
  },
  {
   "cell_type": "code",
   "execution_count": null,
   "id": "310430b5",
   "metadata": {},
   "outputs": [],
   "source": []
  }
 ],
 "metadata": {
  "kernelspec": {
   "display_name": "Python 3 (ipykernel)",
   "language": "python",
   "name": "python3"
  },
  "language_info": {
   "codemirror_mode": {
    "name": "ipython",
    "version": 3
   },
   "file_extension": ".py",
   "mimetype": "text/x-python",
   "name": "python",
   "nbconvert_exporter": "python",
   "pygments_lexer": "ipython3",
   "version": "3.9.13"
  }
 },
 "nbformat": 4,
 "nbformat_minor": 5
}
