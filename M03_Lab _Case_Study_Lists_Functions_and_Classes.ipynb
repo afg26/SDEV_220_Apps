{
 "cells": [
  {
   "cell_type": "code",
   "execution_count": 2,
   "id": "a44179a4",
   "metadata": {},
   "outputs": [
    {
     "name": "stdout",
     "output_type": "stream",
     "text": [
      "Please Choose what type of vehicle do you want. \n",
      "You Can Choose from Car, Boat, Plane, Truck, Boomerstick: Car\n",
      "Please Enter the year of your vehicle. 2010\n",
      "Please Enter the make of your vehicle. Toyota\n",
      "Please Enter the model of your vehicle. Corolla\n",
      "Enter the amount of door for your vehicle. 4\n",
      "Do you want your vehicle to have roof top or not ?  Sun Roof\n",
      "Type: Car\n",
      "Year: 2010\n",
      "Make: Toyota\n",
      "Model: Corolla\n",
      "Doors: 4\n",
      "Roof: Sun Roof\n",
      "\n",
      "\n"
     ]
    }
   ],
   "source": [
    "class Vehicle:\n",
    "    def __init__(self, vehicle_type):\n",
    "        self.vehicle_type =vehicle_type\n",
    "\n",
    "class automobile(Vehicle):\n",
    "    def __init__(self, vehicle_type, year, make, model, doors, roof):\n",
    "        super().__init__(vehicle_type)\n",
    "        self.year = year\n",
    "        self.make = make\n",
    "        self.model = model\n",
    "        self.doors = doors\n",
    "        self.roof = roof\n",
    "\n",
    "    def get_data(self):\n",
    "    \n",
    "        self.vehicle_type = input(\"Please Choose what type of vehicle do you want. \\n\"\n",
    "                                  \"You Can Choose from Car, Boat, Plane, Truck, Boomerstick: \")\n",
    "        self.year = int(input(\"Please Enter the year of your vehicle. \"))\n",
    "        self.make = input(\"Please Enter the make of your vehicle. \")\n",
    "        self.model = input(\"Please Enter the model of your vehicle. \")\n",
    "        self.doors  = int (input(\"Enter the amount of door for your vehicle. \"))\n",
    "        self.roof = input(\"Do you want your vehicle to have roof top or not ?  \")\n",
    "\n",
    "    def set_date(self):\n",
    "        print(f'Type: {self.vehicle_type}')\n",
    "        print(f'Year: {self.year}')\n",
    "        print(f'Make: {self.make}')\n",
    "        print(f'Model: {self.model}')\n",
    "        print(f'Doors: {self.doors}')\n",
    "        print(f'Roof: {self.roof}\\n\\n')\n",
    "\n",
    "print_output = automobile.get_data(Vehicle), automobile.set_date(Vehicle)"
   ]
  },
  {
   "cell_type": "code",
   "execution_count": null,
   "id": "b2ca0749",
   "metadata": {},
   "outputs": [],
   "source": []
  }
 ],
 "metadata": {
  "kernelspec": {
   "display_name": "Python 3 (ipykernel)",
   "language": "python",
   "name": "python3"
  },
  "language_info": {
   "codemirror_mode": {
    "name": "ipython",
    "version": 3
   },
   "file_extension": ".py",
   "mimetype": "text/x-python",
   "name": "python",
   "nbconvert_exporter": "python",
   "pygments_lexer": "ipython3",
   "version": "3.9.13"
  }
 },
 "nbformat": 4,
 "nbformat_minor": 5
}
