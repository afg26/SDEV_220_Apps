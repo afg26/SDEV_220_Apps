{
 "cells": [
  {
   "cell_type": "code",
   "execution_count": 1,
   "id": "a797c07d",
   "metadata": {},
   "outputs": [],
   "source": [
    "#M02 4.1 Excercise"
   ]
  },
  {
   "cell_type": "code",
   "execution_count": 2,
   "id": "8c55dcd0",
   "metadata": {},
   "outputs": [
    {
     "name": "stdout",
     "output_type": "stream",
     "text": [
      "Please Enter a number between 1 to 10 : 6\n",
      "Please Enter another number between 1 to 10 : 2\n",
      "Too Low\n"
     ]
    }
   ],
   "source": [
    "secret = int (input(\"Please Enter a number between 1 to 10 : \"))\n",
    "guess = int (input(\"Please Enter another number between 1 to 10 : \"))\n",
    "if guess < secret:\n",
    "    print (\"Too Low\")\n",
    "elif guess > secret:\n",
    "    print(\"Too High\")\n",
    "else:\n",
    "    print (\"You Just Got it Right\")"
   ]
  },
  {
   "cell_type": "code",
   "execution_count": 3,
   "id": "b7052605",
   "metadata": {},
   "outputs": [],
   "source": [
    "#M02 4.2 Excercise"
   ]
  },
  {
   "cell_type": "code",
   "execution_count": 4,
   "id": "729eccb9",
   "metadata": {},
   "outputs": [
    {
     "name": "stdout",
     "output_type": "stream",
     "text": [
      "cherry\n"
     ]
    }
   ],
   "source": [
    "small = True\n",
    "green = False\n",
    "if small and green:\n",
    "    print(\"pea\")\n",
    "elif small and not green:\n",
    "    print(\"cherry\")\n",
    "elif not small and green:\n",
    "    print(\"watermelon\")\n",
    "elif not small and not green:\n",
    "    print(\"pumpkin\")"
   ]
  },
  {
   "cell_type": "code",
   "execution_count": 5,
   "id": "89848fa6",
   "metadata": {},
   "outputs": [],
   "source": [
    "#M02 6.1 Excercise"
   ]
  },
  {
   "cell_type": "code",
   "execution_count": 6,
   "id": "420691c4",
   "metadata": {},
   "outputs": [
    {
     "name": "stdout",
     "output_type": "stream",
     "text": [
      "3\n",
      "2\n",
      "1\n",
      "0\n"
     ]
    }
   ],
   "source": [
    "small_list = [3,2,1,0]\n",
    "for i in small_list:\n",
    "    print(i)"
   ]
  },
  {
   "cell_type": "code",
   "execution_count": 7,
   "id": "20a1b171",
   "metadata": {},
   "outputs": [],
   "source": [
    "#M02 6.2 Excercise"
   ]
  },
  {
   "cell_type": "code",
   "execution_count": 8,
   "id": "3643105f",
   "metadata": {},
   "outputs": [
    {
     "name": "stdout",
     "output_type": "stream",
     "text": [
      "Too Low\n",
      "Too Low\n",
      "Too Low\n",
      "Too Low\n",
      "Too Low\n",
      "Too Low\n",
      "Found it !\n",
      "Ooops\n"
     ]
    }
   ],
   "source": [
    "guess_me = 7\n",
    "number = 1\n",
    "while True:\n",
    "\n",
    "    if number < guess_me:\n",
    "        print(\"Too Low\")\n",
    "\n",
    "\n",
    "    elif number == guess_me:\n",
    "        print(\"Found it !\")\n",
    "       \n",
    "        \n",
    "    else :\n",
    "        print(\"Ooops\")\n",
    "        break\n",
    "    number += 1"
   ]
  },
  {
   "cell_type": "code",
   "execution_count": 9,
   "id": "1685fb65",
   "metadata": {},
   "outputs": [],
   "source": [
    "#M02 6.3 Excercise"
   ]
  },
  {
   "cell_type": "code",
   "execution_count": 10,
   "id": "6798dff2",
   "metadata": {},
   "outputs": [
    {
     "name": "stdout",
     "output_type": "stream",
     "text": [
      "Too Low\n",
      "Too Low\n",
      "Too Low\n",
      "Too Low\n",
      "Too Low\n",
      "Found it!\n",
      "Oooops\n",
      "Oooops\n",
      "Oooops\n",
      "Oooops\n"
     ]
    }
   ],
   "source": [
    "guess_me = 5\n",
    "for number in range (10):\n",
    "    if number > guess_me:\n",
    "        print(\"Oooops\")\n",
    "    elif number == guess_me:\n",
    "        print(\"Found it!\")\n",
    "    else:\n",
    "        print(\"Too Low\")"
   ]
  },
  {
   "cell_type": "code",
   "execution_count": null,
   "id": "54183df1",
   "metadata": {},
   "outputs": [],
   "source": []
  }
 ],
 "metadata": {
  "kernelspec": {
   "display_name": "Python 3 (ipykernel)",
   "language": "python",
   "name": "python3"
  },
  "language_info": {
   "codemirror_mode": {
    "name": "ipython",
    "version": 3
   },
   "file_extension": ".py",
   "mimetype": "text/x-python",
   "name": "python",
   "nbconvert_exporter": "python",
   "pygments_lexer": "ipython3",
   "version": "3.9.13"
  }
 },
 "nbformat": 4,
 "nbformat_minor": 5
}
