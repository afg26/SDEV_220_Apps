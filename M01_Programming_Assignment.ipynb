{
 "cells": [
  {
   "cell_type": "code",
   "execution_count": 1,
   "id": "f52c5497",
   "metadata": {},
   "outputs": [
    {
     "data": {
      "text/plain": [
       "216000"
      ]
     },
     "execution_count": 1,
     "metadata": {},
     "output_type": "execute_result"
    }
   ],
   "source": [
    "60*60*60"
   ]
  },
  {
   "cell_type": "code",
   "execution_count": 3,
   "id": "b64ccc0c",
   "metadata": {},
   "outputs": [],
   "source": [
    "second_per_hour = 60*60*60"
   ]
  },
  {
   "cell_type": "code",
   "execution_count": 4,
   "id": "11adf286",
   "metadata": {},
   "outputs": [
    {
     "name": "stdout",
     "output_type": "stream",
     "text": [
      "216000\n"
     ]
    }
   ],
   "source": [
    "print(second_per_hour)"
   ]
  },
  {
   "cell_type": "code",
   "execution_count": 5,
   "id": "aaa69bd1",
   "metadata": {},
   "outputs": [
    {
     "data": {
      "text/plain": [
       "5184000"
      ]
     },
     "execution_count": 5,
     "metadata": {},
     "output_type": "execute_result"
    }
   ],
   "source": [
    "second_per_hour * 24"
   ]
  },
  {
   "cell_type": "code",
   "execution_count": 6,
   "id": "9eb8cb45",
   "metadata": {},
   "outputs": [],
   "source": [
    "second_per_day = second_per_hour * 24"
   ]
  },
  {
   "cell_type": "code",
   "execution_count": 7,
   "id": "05cdb351",
   "metadata": {},
   "outputs": [
    {
     "name": "stdout",
     "output_type": "stream",
     "text": [
      "5184000\n"
     ]
    }
   ],
   "source": [
    "print(second_per_day)"
   ]
  },
  {
   "cell_type": "code",
   "execution_count": 8,
   "id": "04179cbd",
   "metadata": {},
   "outputs": [
    {
     "data": {
      "text/plain": [
       "24.0"
      ]
     },
     "execution_count": 8,
     "metadata": {},
     "output_type": "execute_result"
    }
   ],
   "source": [
    "second_per_day / second_per_hour"
   ]
  },
  {
   "cell_type": "code",
   "execution_count": 9,
   "id": "1ef9f6f7",
   "metadata": {},
   "outputs": [
    {
     "data": {
      "text/plain": [
       "24"
      ]
     },
     "execution_count": 9,
     "metadata": {},
     "output_type": "execute_result"
    }
   ],
   "source": [
    "second_per_day // second_per_hour"
   ]
  },
  {
   "cell_type": "code",
   "execution_count": null,
   "id": "5bb04881",
   "metadata": {},
   "outputs": [],
   "source": []
  }
 ],
 "metadata": {
  "kernelspec": {
   "display_name": "Python 3 (ipykernel)",
   "language": "python",
   "name": "python3"
  },
  "language_info": {
   "codemirror_mode": {
    "name": "ipython",
    "version": 3
   },
   "file_extension": ".py",
   "mimetype": "text/x-python",
   "name": "python",
   "nbconvert_exporter": "python",
   "pygments_lexer": "ipython3",
   "version": "3.9.13"
  }
 },
 "nbformat": 4,
 "nbformat_minor": 5
}
